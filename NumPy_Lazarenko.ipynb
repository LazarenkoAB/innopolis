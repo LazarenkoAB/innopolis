{
  "cells": [
    {
      "cell_type": "markdown",
      "metadata": {
        "id": "view-in-github",
        "colab_type": "text"
      },
      "source": [
        "<a href=\"https://colab.research.google.com/github/LazarenkoAB/innopolis/blob/main/NumPy_Lazarenko.ipynb\" target=\"_parent\"><img src=\"https://colab.research.google.com/assets/colab-badge.svg\" alt=\"Open In Colab\"/></a>"
      ]
    },
    {
      "cell_type": "markdown",
      "metadata": {
        "id": "NeK2efRhmMfD"
      },
      "source": [
        "# Упражнения с NumPy \n",
        "\n",
        "Давайте проверим ваши знания. Мы начнем с нескольких простых задач, а затем вам будут заданы несколько более сложных вопросов.\n",
        "\n",
        "Важно! Код, который вы напишите в этом ноутбуке, вам нужно сохранить в виде файла c именем \"Numpy_solutions.ipynb\" в вашем личном репозитории на GitHub."
      ]
    },
    {
      "cell_type": "markdown",
      "metadata": {
        "id": "mdRScN8AmMfI"
      },
      "source": [
        "#### 1. Импорт NumPy "
      ]
    },
    {
      "cell_type": "code",
      "execution_count": 1,
      "metadata": {
        "id": "78iu7xJKmMfJ"
      },
      "outputs": [],
      "source": [
        "import numpy as np"
      ]
    },
    {
      "cell_type": "markdown",
      "metadata": {
        "id": "V_mDhAI5mMfK"
      },
      "source": [
        "#### 2. Создать массив из 10 нулей"
      ]
    },
    {
      "cell_type": "code",
      "execution_count": 8,
      "metadata": {
        "collapsed": true,
        "id": "NxuZX-YtmMfK",
        "colab": {
          "base_uri": "https://localhost:8080/"
        },
        "outputId": "5636abef-a760-4525-9d78-257b81da8047"
      },
      "outputs": [
        {
          "output_type": "execute_result",
          "data": {
            "text/plain": [
              "array([0., 0., 0., 0., 0., 0., 0., 0., 0., 0.])"
            ]
          },
          "metadata": {},
          "execution_count": 8
        }
      ],
      "source": [
        "# Ваш код\n",
        "np.zeros(10)"
      ]
    },
    {
      "cell_type": "code",
      "execution_count": null,
      "metadata": {
        "id": "eU2C5N_EmMfL",
        "outputId": "7a1d01cf-77d8-45a6-88f9-78fcf8ed027e"
      },
      "outputs": [
        {
          "data": {
            "text/plain": [
              "array([0., 0., 0., 0., 0., 0., 0., 0., 0., 0.])"
            ]
          },
          "execution_count": 2,
          "metadata": {},
          "output_type": "execute_result"
        }
      ],
      "source": [
        "# не пишите код в этой ячейке"
      ]
    },
    {
      "cell_type": "markdown",
      "metadata": {
        "id": "IYeI6hVYmMfN"
      },
      "source": [
        "#### 3. Создать массив из 10 единиц"
      ]
    },
    {
      "cell_type": "code",
      "execution_count": 9,
      "metadata": {
        "collapsed": true,
        "id": "CATg2YWZmMfP",
        "colab": {
          "base_uri": "https://localhost:8080/"
        },
        "outputId": "33540f2e-1c2c-4315-f34a-ddd0ce03623c"
      },
      "outputs": [
        {
          "output_type": "execute_result",
          "data": {
            "text/plain": [
              "array([1., 1., 1., 1., 1., 1., 1., 1., 1., 1.])"
            ]
          },
          "metadata": {},
          "execution_count": 9
        }
      ],
      "source": [
        "np.ones(10)"
      ]
    },
    {
      "cell_type": "code",
      "execution_count": null,
      "metadata": {
        "id": "EXXzyw2mmMfP",
        "outputId": "97d5dc30-37b8-48cc-f304-a0512c839595"
      },
      "outputs": [
        {
          "data": {
            "text/plain": [
              "array([1., 1., 1., 1., 1., 1., 1., 1., 1., 1.])"
            ]
          },
          "execution_count": 3,
          "metadata": {},
          "output_type": "execute_result"
        }
      ],
      "source": [
        "# не пишите код в этой ячейке"
      ]
    },
    {
      "cell_type": "markdown",
      "metadata": {
        "id": "vIEHBxhLmMfR"
      },
      "source": [
        "#### 4. Создать массив из  10 пятерок"
      ]
    },
    {
      "cell_type": "code",
      "execution_count": 18,
      "metadata": {
        "collapsed": true,
        "id": "Cglws4sZmMfS",
        "colab": {
          "base_uri": "https://localhost:8080/"
        },
        "outputId": "4b45c633-d1a9-4066-d96e-f35ea864eedb"
      },
      "outputs": [
        {
          "output_type": "execute_result",
          "data": {
            "text/plain": [
              "array([5., 5., 5., 5., 5., 5., 5., 5., 5., 5.])"
            ]
          },
          "metadata": {},
          "execution_count": 18
        }
      ],
      "source": [
        "np.full(10,5,dtype=np.double)"
      ]
    },
    {
      "cell_type": "code",
      "execution_count": null,
      "metadata": {
        "id": "htSLMtnTmMfS",
        "outputId": "0116d6b4-3c9b-4585-b2e5-176c495f579b"
      },
      "outputs": [
        {
          "data": {
            "text/plain": [
              "array([5., 5., 5., 5., 5., 5., 5., 5., 5., 5.])"
            ]
          },
          "execution_count": 4,
          "metadata": {},
          "output_type": "execute_result"
        }
      ],
      "source": [
        "# не пишите код в этой ячейке"
      ]
    },
    {
      "cell_type": "markdown",
      "metadata": {
        "id": "lIm54S7umMfT"
      },
      "source": [
        "#### 5. Создать массив из целых чисел от 10 до 50"
      ]
    },
    {
      "cell_type": "code",
      "execution_count": 12,
      "metadata": {
        "collapsed": true,
        "id": "PkXkSMe2mMfT",
        "colab": {
          "base_uri": "https://localhost:8080/"
        },
        "outputId": "220a20d2-ed1c-403c-cc98-469cecae49cb"
      },
      "outputs": [
        {
          "output_type": "execute_result",
          "data": {
            "text/plain": [
              "array([10, 11, 12, 13, 14, 15, 16, 17, 18, 19, 20, 21, 22, 23, 24, 25, 26,\n",
              "       27, 28, 29, 30, 31, 32, 33, 34, 35, 36, 37, 38, 39, 40, 41, 42, 43,\n",
              "       44, 45, 46, 47, 48, 49, 50])"
            ]
          },
          "metadata": {},
          "execution_count": 12
        }
      ],
      "source": [
        "np.arange(10,51)"
      ]
    },
    {
      "cell_type": "code",
      "execution_count": null,
      "metadata": {
        "id": "1BMY_j9DmMfT",
        "outputId": "f5fcd94e-b99f-4a36-9249-065cccbe7580"
      },
      "outputs": [
        {
          "data": {
            "text/plain": [
              "array([10, 11, 12, 13, 14, 15, 16, 17, 18, 19, 20, 21, 22, 23, 24, 25, 26,\n",
              "       27, 28, 29, 30, 31, 32, 33, 34, 35, 36, 37, 38, 39, 40, 41, 42, 43,\n",
              "       44, 45, 46, 47, 48, 49, 50])"
            ]
          },
          "execution_count": 5,
          "metadata": {},
          "output_type": "execute_result"
        }
      ],
      "source": [
        "# не пишите код в этой ячейке"
      ]
    },
    {
      "cell_type": "markdown",
      "metadata": {
        "id": "2ghMVLO3mMfU"
      },
      "source": [
        "#### 6. Создать массив из четных числел от 10 до 50"
      ]
    },
    {
      "cell_type": "code",
      "execution_count": 19,
      "metadata": {
        "collapsed": true,
        "id": "J0k-JFM6mMfU",
        "colab": {
          "base_uri": "https://localhost:8080/"
        },
        "outputId": "6c1361e6-3143-4ca1-fe92-daff6e79e402"
      },
      "outputs": [
        {
          "output_type": "execute_result",
          "data": {
            "text/plain": [
              "array([10, 12, 14, 16, 18, 20, 22, 24, 26, 28, 30, 32, 34, 36, 38, 40, 42,\n",
              "       44, 46, 48, 50])"
            ]
          },
          "metadata": {},
          "execution_count": 19
        }
      ],
      "source": [
        "np.arange(10,51,2)"
      ]
    },
    {
      "cell_type": "code",
      "execution_count": null,
      "metadata": {
        "id": "QoFp9m-QmMfU",
        "outputId": "44c5814f-a26a-40dd-cf04-835422247928"
      },
      "outputs": [
        {
          "data": {
            "text/plain": [
              "array([10, 12, 14, 16, 18, 20, 22, 24, 26, 28, 30, 32, 34, 36, 38, 40, 42,\n",
              "       44, 46, 48, 50])"
            ]
          },
          "execution_count": 6,
          "metadata": {},
          "output_type": "execute_result"
        }
      ],
      "source": [
        "# не пишите код в этой ячейке"
      ]
    },
    {
      "cell_type": "markdown",
      "metadata": {
        "id": "MHNppAlBmMfU"
      },
      "source": [
        "#### 7. Создать матрицу 3х3 с числами от 0 до 8"
      ]
    },
    {
      "cell_type": "code",
      "execution_count": 20,
      "metadata": {
        "collapsed": true,
        "id": "R6i1vqtRmMfV",
        "colab": {
          "base_uri": "https://localhost:8080/"
        },
        "outputId": "d5377924-b546-4597-ba62-775209c7e208"
      },
      "outputs": [
        {
          "output_type": "execute_result",
          "data": {
            "text/plain": [
              "array([[0, 1, 2],\n",
              "       [3, 4, 5],\n",
              "       [6, 7, 8]])"
            ]
          },
          "metadata": {},
          "execution_count": 20
        }
      ],
      "source": [
        "np.arange(0,9).reshape((3,3))"
      ]
    },
    {
      "cell_type": "code",
      "execution_count": null,
      "metadata": {
        "id": "AUf14JXEmMfV",
        "outputId": "8f29e013-eb8a-43a0-939b-06a6e461a254"
      },
      "outputs": [
        {
          "data": {
            "text/plain": [
              "array([[0, 1, 2],\n",
              "       [3, 4, 5],\n",
              "       [6, 7, 8]])"
            ]
          },
          "execution_count": 7,
          "metadata": {},
          "output_type": "execute_result"
        }
      ],
      "source": [
        "# не пишите код в этой ячейке"
      ]
    },
    {
      "cell_type": "markdown",
      "metadata": {
        "id": "6VSqY2EmmMfV"
      },
      "source": [
        "#### 8. Создать единичную матрицу 3x3 "
      ]
    },
    {
      "cell_type": "code",
      "execution_count": 21,
      "metadata": {
        "collapsed": true,
        "id": "yiqRCxGqmMfV",
        "colab": {
          "base_uri": "https://localhost:8080/"
        },
        "outputId": "26235984-dfd6-448b-bcae-f3d6f039568a"
      },
      "outputs": [
        {
          "output_type": "execute_result",
          "data": {
            "text/plain": [
              "array([[1., 0., 0.],\n",
              "       [0., 1., 0.],\n",
              "       [0., 0., 1.]])"
            ]
          },
          "metadata": {},
          "execution_count": 21
        }
      ],
      "source": [
        "np.eye(3)"
      ]
    },
    {
      "cell_type": "code",
      "execution_count": null,
      "metadata": {
        "id": "supXTHFFmMfV",
        "outputId": "67abc573-178b-4a01-ff70-18bd073d90df"
      },
      "outputs": [
        {
          "data": {
            "text/plain": [
              "array([[1., 0., 0.],\n",
              "       [0., 1., 0.],\n",
              "       [0., 0., 1.]])"
            ]
          },
          "execution_count": 8,
          "metadata": {},
          "output_type": "execute_result"
        }
      ],
      "source": [
        "# не пишите код в этой ячейке"
      ]
    },
    {
      "cell_type": "markdown",
      "metadata": {
        "id": "bQEIgTj0mMfW"
      },
      "source": [
        "#### 9. Используйте NumPy для генерации случайного числа от 0 до 1\n",
        "<br>ПРИМЕЧАНИЕ. Значение вашего результата должно отличаться от приведенного ниже."
      ]
    },
    {
      "cell_type": "code",
      "execution_count": 26,
      "metadata": {
        "collapsed": true,
        "id": "RReqe0IwmMfW",
        "colab": {
          "base_uri": "https://localhost:8080/"
        },
        "outputId": "f44401cb-936e-4130-eaa6-5d0f34ac2cdc"
      },
      "outputs": [
        {
          "output_type": "execute_result",
          "data": {
            "text/plain": [
              "0.2843694976643043"
            ]
          },
          "metadata": {},
          "execution_count": 26
        }
      ],
      "source": [
        "np.random.random()"
      ]
    },
    {
      "cell_type": "code",
      "execution_count": 24,
      "metadata": {
        "id": "AZiuBmehmMfW"
      },
      "outputs": [],
      "source": [
        "# не пишите код в этой ячейке"
      ]
    },
    {
      "cell_type": "markdown",
      "metadata": {
        "id": "eNNy5BCNmMfW"
      },
      "source": [
        "#### Используйте NumPy для генерации массива из 25 случайных чисел, взятых из стандартного нормального распределения\n",
        "<br>ПРИМЕЧАНИЕ. Значение вашего результата должно отличаться от приведенного ниже."
      ]
    },
    {
      "cell_type": "code",
      "execution_count": 27,
      "metadata": {
        "collapsed": true,
        "id": "-sFebNmymMfX",
        "colab": {
          "base_uri": "https://localhost:8080/"
        },
        "outputId": "190a548c-d302-43b5-9ab0-83403d5c143b"
      },
      "outputs": [
        {
          "output_type": "execute_result",
          "data": {
            "text/plain": [
              "array([0.93506105, 0.44159466, 0.05104747, 0.59378387, 0.27695608,\n",
              "       0.64554621, 0.03304171, 0.79202728, 0.67940087, 0.78214729,\n",
              "       0.08289858, 0.81629725, 0.34042141, 0.80994828, 0.79906379,\n",
              "       0.95413669, 0.48318276, 0.20985866, 0.20750651, 0.51899524,\n",
              "       0.88215803, 0.27277032, 0.71305745, 0.10919867, 0.3329715 ])"
            ]
          },
          "metadata": {},
          "execution_count": 27
        }
      ],
      "source": [
        "np.random.rand(25)"
      ]
    },
    {
      "cell_type": "code",
      "execution_count": null,
      "metadata": {
        "id": "_cALSeD1mMfX",
        "outputId": "413a4eb1-f25f-4c41-d450-a3b4ec850bb7"
      },
      "outputs": [
        {
          "data": {
            "text/plain": [
              "array([ 1.80076712, -1.12375847, -0.98524305,  0.11673573,  1.96346762,\n",
              "        1.81378592, -0.33790771,  0.85012656,  0.0100703 , -0.91005957,\n",
              "        0.29064366,  0.69906357,  0.1774377 , -0.61958694, -0.45498611,\n",
              "       -2.0804685 , -0.06778549,  1.06403819,  0.4311884 , -1.09853837,\n",
              "        1.11980469, -0.48751963,  1.32517611, -0.61775122, -0.00622865])"
            ]
          },
          "execution_count": 10,
          "metadata": {},
          "output_type": "execute_result"
        }
      ],
      "source": [
        "# не пишите код в этой ячейке"
      ]
    },
    {
      "cell_type": "markdown",
      "metadata": {
        "id": "78WHycvemMfX"
      },
      "source": [
        "#### 11. Создайте следующую матрицу:"
      ]
    },
    {
      "cell_type": "code",
      "execution_count": 28,
      "metadata": {
        "collapsed": true,
        "id": "-mAx-uC9mMfY",
        "colab": {
          "base_uri": "https://localhost:8080/"
        },
        "outputId": "428d0f71-0035-41d2-eb73-eae20ce05fc2"
      },
      "outputs": [
        {
          "output_type": "execute_result",
          "data": {
            "text/plain": [
              "array([[0.01, 0.02, 0.03, 0.04, 0.05, 0.06, 0.07, 0.08, 0.09, 0.1 ],\n",
              "       [0.11, 0.12, 0.13, 0.14, 0.15, 0.16, 0.17, 0.18, 0.19, 0.2 ],\n",
              "       [0.21, 0.22, 0.23, 0.24, 0.25, 0.26, 0.27, 0.28, 0.29, 0.3 ],\n",
              "       [0.31, 0.32, 0.33, 0.34, 0.35, 0.36, 0.37, 0.38, 0.39, 0.4 ],\n",
              "       [0.41, 0.42, 0.43, 0.44, 0.45, 0.46, 0.47, 0.48, 0.49, 0.5 ],\n",
              "       [0.51, 0.52, 0.53, 0.54, 0.55, 0.56, 0.57, 0.58, 0.59, 0.6 ],\n",
              "       [0.61, 0.62, 0.63, 0.64, 0.65, 0.66, 0.67, 0.68, 0.69, 0.7 ],\n",
              "       [0.71, 0.72, 0.73, 0.74, 0.75, 0.76, 0.77, 0.78, 0.79, 0.8 ],\n",
              "       [0.81, 0.82, 0.83, 0.84, 0.85, 0.86, 0.87, 0.88, 0.89, 0.9 ],\n",
              "       [0.91, 0.92, 0.93, 0.94, 0.95, 0.96, 0.97, 0.98, 0.99, 1.  ]])"
            ]
          },
          "metadata": {},
          "execution_count": 28
        }
      ],
      "source": [
        "np.arange(0.01,1.01,0.01).reshape(10,-1)"
      ]
    },
    {
      "cell_type": "code",
      "execution_count": null,
      "metadata": {
        "id": "j1vXqnqNmMfY",
        "outputId": "a02c50fa-59a9-4cdb-e503-3bf60c57c69d"
      },
      "outputs": [
        {
          "data": {
            "text/plain": [
              "array([[0.01, 0.02, 0.03, 0.04, 0.05, 0.06, 0.07, 0.08, 0.09, 0.1 ],\n",
              "       [0.11, 0.12, 0.13, 0.14, 0.15, 0.16, 0.17, 0.18, 0.19, 0.2 ],\n",
              "       [0.21, 0.22, 0.23, 0.24, 0.25, 0.26, 0.27, 0.28, 0.29, 0.3 ],\n",
              "       [0.31, 0.32, 0.33, 0.34, 0.35, 0.36, 0.37, 0.38, 0.39, 0.4 ],\n",
              "       [0.41, 0.42, 0.43, 0.44, 0.45, 0.46, 0.47, 0.48, 0.49, 0.5 ],\n",
              "       [0.51, 0.52, 0.53, 0.54, 0.55, 0.56, 0.57, 0.58, 0.59, 0.6 ],\n",
              "       [0.61, 0.62, 0.63, 0.64, 0.65, 0.66, 0.67, 0.68, 0.69, 0.7 ],\n",
              "       [0.71, 0.72, 0.73, 0.74, 0.75, 0.76, 0.77, 0.78, 0.79, 0.8 ],\n",
              "       [0.81, 0.82, 0.83, 0.84, 0.85, 0.86, 0.87, 0.88, 0.89, 0.9 ],\n",
              "       [0.91, 0.92, 0.93, 0.94, 0.95, 0.96, 0.97, 0.98, 0.99, 1.  ]])"
            ]
          },
          "execution_count": 11,
          "metadata": {},
          "output_type": "execute_result"
        }
      ],
      "source": [
        "# не пишите код в этой ячейке"
      ]
    },
    {
      "cell_type": "markdown",
      "metadata": {
        "id": "diT_3TpPmMfY"
      },
      "source": [
        "#### 12. Создайте массив из 20 линейно расположенных точек между 0 и 1:"
      ]
    },
    {
      "cell_type": "code",
      "execution_count": 29,
      "metadata": {
        "collapsed": true,
        "id": "IueSTdQRmMfZ",
        "colab": {
          "base_uri": "https://localhost:8080/"
        },
        "outputId": "bdc774ce-34de-49c9-f88a-bdfbf5045caa"
      },
      "outputs": [
        {
          "output_type": "execute_result",
          "data": {
            "text/plain": [
              "array([0.        , 0.05263158, 0.10526316, 0.15789474, 0.21052632,\n",
              "       0.26315789, 0.31578947, 0.36842105, 0.42105263, 0.47368421,\n",
              "       0.52631579, 0.57894737, 0.63157895, 0.68421053, 0.73684211,\n",
              "       0.78947368, 0.84210526, 0.89473684, 0.94736842, 1.        ])"
            ]
          },
          "metadata": {},
          "execution_count": 29
        }
      ],
      "source": [
        "np.linspace(0,1,20)"
      ]
    },
    {
      "cell_type": "code",
      "execution_count": null,
      "metadata": {
        "id": "VjOU9uYImMfZ",
        "outputId": "f5075ede-c57c-4fc1-9ff0-cfe69781959b"
      },
      "outputs": [
        {
          "data": {
            "text/plain": [
              "array([0.        , 0.05263158, 0.10526316, 0.15789474, 0.21052632,\n",
              "       0.26315789, 0.31578947, 0.36842105, 0.42105263, 0.47368421,\n",
              "       0.52631579, 0.57894737, 0.63157895, 0.68421053, 0.73684211,\n",
              "       0.78947368, 0.84210526, 0.89473684, 0.94736842, 1.        ])"
            ]
          },
          "execution_count": 12,
          "metadata": {},
          "output_type": "execute_result"
        }
      ],
      "source": [
        "# не пишите код в этой ячейке"
      ]
    },
    {
      "cell_type": "markdown",
      "metadata": {
        "id": "obI1ldtFmMfZ"
      },
      "source": [
        "## Numpy индексация и выборка\n",
        "\n",
        "Дана стартовая матрица (обязательно запустите ячейку ниже!). Вам необходимо повторить выходные результаты матрицы:"
      ]
    },
    {
      "cell_type": "code",
      "execution_count": 33,
      "metadata": {
        "id": "LbooVaC-mMfZ",
        "outputId": "f12cc0b5-8878-4af7-f391-6c0d8083bcda",
        "colab": {
          "base_uri": "https://localhost:8080/"
        }
      },
      "outputs": [
        {
          "output_type": "execute_result",
          "data": {
            "text/plain": [
              "array([[ 1,  2,  3,  4,  5],\n",
              "       [ 6,  7,  8,  9, 10],\n",
              "       [11, 12, 13, 14, 15],\n",
              "       [16, 17, 18, 19, 20],\n",
              "       [21, 22, 23, 24, 25]])"
            ]
          },
          "metadata": {},
          "execution_count": 33
        }
      ],
      "source": [
        "# это наша стартовая матрица\n",
        "mat = np.arange(1,26).reshape(5,5)\n",
        "mat"
      ]
    },
    {
      "cell_type": "markdown",
      "metadata": {
        "id": "bFZ1hWn6mMfa"
      },
      "source": [
        "#### 13. Напишите код, который воспроизводит вывод, показанный ниже.\n"
      ]
    },
    {
      "cell_type": "code",
      "execution_count": 31,
      "metadata": {
        "collapsed": true,
        "id": "TOKd_r7lmMfa",
        "colab": {
          "base_uri": "https://localhost:8080/"
        },
        "outputId": "8841f954-7cef-464c-fc6d-32b95235c632"
      },
      "outputs": [
        {
          "output_type": "execute_result",
          "data": {
            "text/plain": [
              "array([[12, 13, 14, 15],\n",
              "       [17, 18, 19, 20],\n",
              "       [22, 23, 24, 25]])"
            ]
          },
          "metadata": {},
          "execution_count": 31
        }
      ],
      "source": [
        "# CODE HERE\n",
        "mat[2:,1:]"
      ]
    },
    {
      "cell_type": "code",
      "execution_count": null,
      "metadata": {
        "id": "CiIFYSS9mMfa",
        "outputId": "ee91dacd-6bcc-4428-b468-e6e0869a97e0"
      },
      "outputs": [
        {
          "data": {
            "text/plain": [
              "array([[12, 13, 14, 15],\n",
              "       [17, 18, 19, 20],\n",
              "       [22, 23, 24, 25]])"
            ]
          },
          "execution_count": 14,
          "metadata": {},
          "output_type": "execute_result"
        }
      ],
      "source": [
        "# не пишите код в этой ячейке"
      ]
    },
    {
      "cell_type": "markdown",
      "metadata": {
        "id": "eB-EAeMcmMfa"
      },
      "source": [
        "#### 14. Напишите код, который воспроизводит вывод, показанный ниже."
      ]
    },
    {
      "cell_type": "code",
      "execution_count": 34,
      "metadata": {
        "id": "a1uO-Uk_mMfa",
        "colab": {
          "base_uri": "https://localhost:8080/"
        },
        "outputId": "cdd9c596-93aa-466a-c250-8bf1eb92291c"
      },
      "outputs": [
        {
          "output_type": "execute_result",
          "data": {
            "text/plain": [
              "20"
            ]
          },
          "metadata": {},
          "execution_count": 34
        }
      ],
      "source": [
        "mat[3][4]"
      ]
    },
    {
      "cell_type": "code",
      "execution_count": 32,
      "metadata": {
        "id": "OeiVV4uLmMfa"
      },
      "outputs": [],
      "source": [
        "# не пишите код в этой ячейке"
      ]
    },
    {
      "cell_type": "markdown",
      "metadata": {
        "id": "8to-iFQamMfb"
      },
      "source": [
        "#### 15. Напишите код, который воспроизводит вывод, показанный ниже."
      ]
    },
    {
      "cell_type": "code",
      "execution_count": 35,
      "metadata": {
        "id": "ST_-pAOQmMfb",
        "colab": {
          "base_uri": "https://localhost:8080/"
        },
        "outputId": "917938d4-15e9-42b8-8c6e-3ca8d558fe96"
      },
      "outputs": [
        {
          "output_type": "execute_result",
          "data": {
            "text/plain": [
              "array([[ 2],\n",
              "       [ 7],\n",
              "       [12]])"
            ]
          },
          "metadata": {},
          "execution_count": 35
        }
      ],
      "source": [
        "mat[:3,1].reshape(3,1)"
      ]
    },
    {
      "cell_type": "code",
      "execution_count": null,
      "metadata": {
        "id": "7CDVIqbgmMfb",
        "outputId": "398b0a3d-e430-4d38-8247-a478ff5b4996"
      },
      "outputs": [
        {
          "data": {
            "text/plain": [
              "array([[ 2],\n",
              "       [ 7],\n",
              "       [12]])"
            ]
          },
          "execution_count": 16,
          "metadata": {},
          "output_type": "execute_result"
        }
      ],
      "source": [
        "# не пишите код в этой ячейке"
      ]
    },
    {
      "cell_type": "markdown",
      "metadata": {
        "id": "fBd-JJJumMfb"
      },
      "source": [
        "#### 16. Напишите код, который воспроизводит вывод, показанный ниже."
      ]
    },
    {
      "cell_type": "code",
      "execution_count": 36,
      "metadata": {
        "id": "bsq8x0RWmMfb",
        "colab": {
          "base_uri": "https://localhost:8080/"
        },
        "outputId": "d02b3f88-baa1-41da-ccf1-ceb9c4f82242"
      },
      "outputs": [
        {
          "output_type": "execute_result",
          "data": {
            "text/plain": [
              "array([21, 22, 23, 24, 25])"
            ]
          },
          "metadata": {},
          "execution_count": 36
        }
      ],
      "source": [
        "mat[4][0:]"
      ]
    },
    {
      "cell_type": "code",
      "execution_count": null,
      "metadata": {
        "id": "TY1q276BmMfb",
        "outputId": "cb45cb0c-5711-41aa-f0bf-cbd87992542f"
      },
      "outputs": [
        {
          "data": {
            "text/plain": [
              "array([21, 22, 23, 24, 25])"
            ]
          },
          "execution_count": 17,
          "metadata": {},
          "output_type": "execute_result"
        }
      ],
      "source": [
        "# не пишите код в этой ячейке"
      ]
    },
    {
      "cell_type": "markdown",
      "metadata": {
        "id": "5ux3_pz2mMfc"
      },
      "source": [
        "#### 17. Напишите код, который воспроизводит вывод, показанный ниже."
      ]
    },
    {
      "cell_type": "code",
      "execution_count": 37,
      "metadata": {
        "id": "HYkJ51rJmMfc",
        "colab": {
          "base_uri": "https://localhost:8080/"
        },
        "outputId": "d1503a1f-1a1d-484a-e9da-21e62ba82498"
      },
      "outputs": [
        {
          "output_type": "execute_result",
          "data": {
            "text/plain": [
              "array([[16, 17, 18, 19, 20],\n",
              "       [21, 22, 23, 24, 25]])"
            ]
          },
          "metadata": {},
          "execution_count": 37
        }
      ],
      "source": [
        "mat[3:][0:]"
      ]
    },
    {
      "cell_type": "code",
      "execution_count": null,
      "metadata": {
        "id": "-VtV9H94mMfc",
        "outputId": "7e14a85d-0c3b-4d44-ea65-ba97f0895793"
      },
      "outputs": [
        {
          "data": {
            "text/plain": [
              "array([[16, 17, 18, 19, 20],\n",
              "       [21, 22, 23, 24, 25]])"
            ]
          },
          "execution_count": 18,
          "metadata": {},
          "output_type": "execute_result"
        }
      ],
      "source": [
        "# не пишите код в этой ячейке"
      ]
    },
    {
      "cell_type": "markdown",
      "metadata": {
        "id": "wwDqP3CKmMfc"
      },
      "source": [
        "## Операции NumPy "
      ]
    },
    {
      "cell_type": "markdown",
      "metadata": {
        "id": "vXiQn6zmmMfd"
      },
      "source": [
        "#### 18. Получить сумму всех значений в матрице mat"
      ]
    },
    {
      "cell_type": "code",
      "execution_count": 38,
      "metadata": {
        "collapsed": true,
        "id": "yHzVHopSmMfd",
        "colab": {
          "base_uri": "https://localhost:8080/"
        },
        "outputId": "82b2a2b2-f43a-4641-f3dd-06f37e670698"
      },
      "outputs": [
        {
          "output_type": "execute_result",
          "data": {
            "text/plain": [
              "325"
            ]
          },
          "metadata": {},
          "execution_count": 38
        }
      ],
      "source": [
        "np.sum(mat)"
      ]
    },
    {
      "cell_type": "code",
      "execution_count": null,
      "metadata": {
        "id": "SOVVslY8mMfe",
        "outputId": "0152e6a7-5a4c-49d1-8ac1-1159963bd023"
      },
      "outputs": [
        {
          "data": {
            "text/plain": [
              "325"
            ]
          },
          "execution_count": 19,
          "metadata": {},
          "output_type": "execute_result"
        }
      ],
      "source": [
        "# не пишите код в этой ячейке"
      ]
    },
    {
      "cell_type": "markdown",
      "metadata": {
        "id": "pmpCA-IhmMfe"
      },
      "source": [
        "#### 19. Получить стандартное отклонение в матрице mat"
      ]
    },
    {
      "cell_type": "code",
      "execution_count": 39,
      "metadata": {
        "collapsed": true,
        "id": "p5Mpeep4mMfe",
        "colab": {
          "base_uri": "https://localhost:8080/"
        },
        "outputId": "3d9168ee-8465-4ed6-9302-ae258053f49a"
      },
      "outputs": [
        {
          "output_type": "execute_result",
          "data": {
            "text/plain": [
              "7.211102550927978"
            ]
          },
          "metadata": {},
          "execution_count": 39
        }
      ],
      "source": [
        "np.std(mat)"
      ]
    },
    {
      "cell_type": "code",
      "execution_count": null,
      "metadata": {
        "id": "gKx_-PWImMfe",
        "outputId": "54bfeb79-1455-4c34-b60c-a0a4c90eca27"
      },
      "outputs": [
        {
          "data": {
            "text/plain": [
              "7.211102550927978"
            ]
          },
          "execution_count": 20,
          "metadata": {},
          "output_type": "execute_result"
        }
      ],
      "source": [
        "# не пишите код в этой ячейке"
      ]
    },
    {
      "cell_type": "markdown",
      "metadata": {
        "id": "2bKmpuEPmMfe"
      },
      "source": [
        "#### 20. Получить сумму значений в колонках в матрице mat"
      ]
    },
    {
      "cell_type": "code",
      "execution_count": 40,
      "metadata": {
        "collapsed": true,
        "id": "MqGrrIVXmMff",
        "colab": {
          "base_uri": "https://localhost:8080/"
        },
        "outputId": "b714d787-4269-4a00-9c2d-cecae2cef715"
      },
      "outputs": [
        {
          "output_type": "execute_result",
          "data": {
            "text/plain": [
              "array([55, 60, 65, 70, 75])"
            ]
          },
          "metadata": {},
          "execution_count": 40
        }
      ],
      "source": [
        "mat.sum(axis = 0)"
      ]
    },
    {
      "cell_type": "code",
      "execution_count": null,
      "metadata": {
        "id": "-U_cRIqymMff",
        "outputId": "1a5d5824-08a3-4085-d718-7441544d587a"
      },
      "outputs": [
        {
          "data": {
            "text/plain": [
              "array([55, 60, 65, 70, 75])"
            ]
          },
          "execution_count": 21,
          "metadata": {},
          "output_type": "execute_result"
        }
      ],
      "source": [
        "# не пишите код в этой ячейке"
      ]
    },
    {
      "cell_type": "markdown",
      "metadata": {
        "id": "vP2NtNRVmMff"
      },
      "source": [
        "## Бонусный вопрос\n",
        "\n",
        "Есть ли способ гарантировать, что мы всегда получим одинаковые случайные числа?"
      ]
    },
    {
      "cell_type": "code",
      "execution_count": 41,
      "metadata": {
        "collapsed": true,
        "id": "0DQjyOa6mMff",
        "colab": {
          "base_uri": "https://localhost:8080/"
        },
        "outputId": "5ae4fe79-3dd0-4db0-e6ba-4dd06c69546d"
      },
      "outputs": [
        {
          "output_type": "execute_result",
          "data": {
            "text/plain": [
              "array([52, 93, 15, 72, 61, 21, 83, 87, 75])"
            ]
          },
          "metadata": {},
          "execution_count": 41
        }
      ],
      "source": [
        "np.random.seed(42)\n",
        "b=np.random.randint(1,100,9)\n",
        "b"
      ]
    }
  ],
  "metadata": {
    "anaconda-cloud": {},
    "kernelspec": {
      "display_name": "Python 3",
      "language": "python",
      "name": "python3"
    },
    "language_info": {
      "codemirror_mode": {
        "name": "ipython",
        "version": 3
      },
      "file_extension": ".py",
      "mimetype": "text/x-python",
      "name": "python",
      "nbconvert_exporter": "python",
      "pygments_lexer": "ipython3",
      "version": "3.7.6"
    },
    "colab": {
      "name": "NumPy_Lazarenko.ipynb",
      "provenance": [],
      "collapsed_sections": [],
      "include_colab_link": true
    }
  },
  "nbformat": 4,
  "nbformat_minor": 0
}