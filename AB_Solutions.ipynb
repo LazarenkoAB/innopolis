{
  "cells": [
    {
      "cell_type": "markdown",
      "metadata": {
        "id": "view-in-github",
        "colab_type": "text"
      },
      "source": [
        "<a href=\"https://colab.research.google.com/github/LazarenkoAB/innopolis/blob/main/AB_Solutions.ipynb\" target=\"_parent\"><img src=\"https://colab.research.google.com/assets/colab-badge.svg\" alt=\"Open In Colab\"/></a>"
      ]
    },
    {
      "cell_type": "markdown",
      "id": "80ba7fb9",
      "metadata": {
        "id": "80ba7fb9"
      },
      "source": [
        "# ДЗ 10 Python A/B\n",
        "\n",
        "В этом задании вам необходимо использовать набор данных ad.csv.\n",
        "\n",
        "1) Датасет содежит 2 столбца: объявление (A/B) и действие (0/1).\n",
        "\n",
        "2) Вам необходимо сформулировать гипотезу, провести ее проверку (пользуясь\n",
        "классическим подходом) и ответить на вопрос какое из объявлений лучше.\n"
      ]
    },
    {
      "cell_type": "markdown",
      "id": "8340e3ff",
      "metadata": {
        "id": "8340e3ff"
      },
      "source": [
        "### 1. Контекст задачи "
      ]
    },
    {
      "cell_type": "markdown",
      "id": "c4912f05",
      "metadata": {
        "id": "c4912f05"
      },
      "source": [
        "Ритейл-компания провела редизайн упаковок товара собственного производства в рамках задачи повышения продаж по нему и внедрила на сеть магазинов.\n",
        "Указанный товар в магазинах был представлен как в новой, так и в старой упаковке.\n",
        "Конверсия в продажу товара в старом дизайне упаковки в магазинах составляет в среднем в течение года - 30%.\n",
        "Была поставлена задача оценки успешности нового дизайна по критерию роста его конверсии в продажу на 5%. "
      ]
    },
    {
      "cell_type": "markdown",
      "id": "a7b46184",
      "metadata": {
        "id": "a7b46184"
      },
      "source": [
        "### 2. Формулировка гипотезы"
      ]
    },
    {
      "cell_type": "markdown",
      "id": "76eb4dfd",
      "metadata": {
        "id": "76eb4dfd"
      },
      "source": [
        "H0: p(a) = p(b)\n",
        "\n",
        "H1: p(a) ≠ p(b)\n",
        "\n",
        "где p(a) и p(b) означают соответственно коэффициент конверсии в продажу товара в старом и новом дизайне.\n",
        "Уровень доверия примем равным 95%, то есть α = 0,05.\n",
        "\n",
        "Значение α - это порог, который устанавливаем и делаем вывод: «Если вероятность наблюдения за результатом (p-значением) ниже α, то мы отвергаем гипотезу H0». Поскольку наша α=0,05 (что указывает на вероятность 5%), наша уверенность (1 — α) составляет 95%.\n",
        "\n",
        "Как итог, нам нужна 95% уверенность в том, что редизайн упаковки позволит увеличить конверсию в продажу до 40%, прежде чем отклонить нулевую гипотезу H0."
      ]
    },
    {
      "cell_type": "markdown",
      "id": "16647ea7",
      "metadata": {
        "id": "16647ea7"
      },
      "source": [
        "### 3. Набор данных"
      ]
    },
    {
      "cell_type": "code",
      "execution_count": null,
      "id": "25b05044",
      "metadata": {
        "id": "25b05044"
      },
      "outputs": [],
      "source": [
        "#Импортируем все библиотеки\n",
        "import pandas as pd\n",
        "import numpy as np\n",
        "import seaborn as sns\n",
        "import scipy.stats as stats\n",
        "import matplotlib.pyplot as plt"
      ]
    },
    {
      "cell_type": "code",
      "execution_count": null,
      "id": "2d3ad486",
      "metadata": {
        "id": "2d3ad486"
      },
      "outputs": [],
      "source": [
        "#загрузим данный датасет в виде датафрейма\n",
        "df = pd.read_csv('ad.csv')"
      ]
    },
    {
      "cell_type": "code",
      "execution_count": null,
      "id": "5eec2e1e",
      "metadata": {
        "colab": {
          "base_uri": "https://localhost:8080/",
          "height": 206
        },
        "id": "5eec2e1e",
        "outputId": "de9695d8-a184-4d8c-9f9f-fa686a1e9624"
      },
      "outputs": [
        {
          "output_type": "execute_result",
          "data": {
            "text/html": [
              "\n",
              "  <div id=\"df-a581ff16-7536-4532-92a8-2fbdee0078ad\">\n",
              "    <div class=\"colab-df-container\">\n",
              "      <div>\n",
              "<style scoped>\n",
              "    .dataframe tbody tr th:only-of-type {\n",
              "        vertical-align: middle;\n",
              "    }\n",
              "\n",
              "    .dataframe tbody tr th {\n",
              "        vertical-align: top;\n",
              "    }\n",
              "\n",
              "    .dataframe thead th {\n",
              "        text-align: right;\n",
              "    }\n",
              "</style>\n",
              "<table border=\"1\" class=\"dataframe\">\n",
              "  <thead>\n",
              "    <tr style=\"text-align: right;\">\n",
              "      <th></th>\n",
              "      <th>ad_id</th>\n",
              "      <th>action</th>\n",
              "    </tr>\n",
              "  </thead>\n",
              "  <tbody>\n",
              "    <tr>\n",
              "      <th>0</th>\n",
              "      <td>B</td>\n",
              "      <td>1</td>\n",
              "    </tr>\n",
              "    <tr>\n",
              "      <th>1</th>\n",
              "      <td>B</td>\n",
              "      <td>1</td>\n",
              "    </tr>\n",
              "    <tr>\n",
              "      <th>2</th>\n",
              "      <td>A</td>\n",
              "      <td>0</td>\n",
              "    </tr>\n",
              "    <tr>\n",
              "      <th>3</th>\n",
              "      <td>B</td>\n",
              "      <td>0</td>\n",
              "    </tr>\n",
              "    <tr>\n",
              "      <th>4</th>\n",
              "      <td>A</td>\n",
              "      <td>1</td>\n",
              "    </tr>\n",
              "  </tbody>\n",
              "</table>\n",
              "</div>\n",
              "      <button class=\"colab-df-convert\" onclick=\"convertToInteractive('df-a581ff16-7536-4532-92a8-2fbdee0078ad')\"\n",
              "              title=\"Convert this dataframe to an interactive table.\"\n",
              "              style=\"display:none;\">\n",
              "        \n",
              "  <svg xmlns=\"http://www.w3.org/2000/svg\" height=\"24px\"viewBox=\"0 0 24 24\"\n",
              "       width=\"24px\">\n",
              "    <path d=\"M0 0h24v24H0V0z\" fill=\"none\"/>\n",
              "    <path d=\"M18.56 5.44l.94 2.06.94-2.06 2.06-.94-2.06-.94-.94-2.06-.94 2.06-2.06.94zm-11 1L8.5 8.5l.94-2.06 2.06-.94-2.06-.94L8.5 2.5l-.94 2.06-2.06.94zm10 10l.94 2.06.94-2.06 2.06-.94-2.06-.94-.94-2.06-.94 2.06-2.06.94z\"/><path d=\"M17.41 7.96l-1.37-1.37c-.4-.4-.92-.59-1.43-.59-.52 0-1.04.2-1.43.59L10.3 9.45l-7.72 7.72c-.78.78-.78 2.05 0 2.83L4 21.41c.39.39.9.59 1.41.59.51 0 1.02-.2 1.41-.59l7.78-7.78 2.81-2.81c.8-.78.8-2.07 0-2.86zM5.41 20L4 18.59l7.72-7.72 1.47 1.35L5.41 20z\"/>\n",
              "  </svg>\n",
              "      </button>\n",
              "      \n",
              "  <style>\n",
              "    .colab-df-container {\n",
              "      display:flex;\n",
              "      flex-wrap:wrap;\n",
              "      gap: 12px;\n",
              "    }\n",
              "\n",
              "    .colab-df-convert {\n",
              "      background-color: #E8F0FE;\n",
              "      border: none;\n",
              "      border-radius: 50%;\n",
              "      cursor: pointer;\n",
              "      display: none;\n",
              "      fill: #1967D2;\n",
              "      height: 32px;\n",
              "      padding: 0 0 0 0;\n",
              "      width: 32px;\n",
              "    }\n",
              "\n",
              "    .colab-df-convert:hover {\n",
              "      background-color: #E2EBFA;\n",
              "      box-shadow: 0px 1px 2px rgba(60, 64, 67, 0.3), 0px 1px 3px 1px rgba(60, 64, 67, 0.15);\n",
              "      fill: #174EA6;\n",
              "    }\n",
              "\n",
              "    [theme=dark] .colab-df-convert {\n",
              "      background-color: #3B4455;\n",
              "      fill: #D2E3FC;\n",
              "    }\n",
              "\n",
              "    [theme=dark] .colab-df-convert:hover {\n",
              "      background-color: #434B5C;\n",
              "      box-shadow: 0px 1px 3px 1px rgba(0, 0, 0, 0.15);\n",
              "      filter: drop-shadow(0px 1px 2px rgba(0, 0, 0, 0.3));\n",
              "      fill: #FFFFFF;\n",
              "    }\n",
              "  </style>\n",
              "\n",
              "      <script>\n",
              "        const buttonEl =\n",
              "          document.querySelector('#df-a581ff16-7536-4532-92a8-2fbdee0078ad button.colab-df-convert');\n",
              "        buttonEl.style.display =\n",
              "          google.colab.kernel.accessAllowed ? 'block' : 'none';\n",
              "\n",
              "        async function convertToInteractive(key) {\n",
              "          const element = document.querySelector('#df-a581ff16-7536-4532-92a8-2fbdee0078ad');\n",
              "          const dataTable =\n",
              "            await google.colab.kernel.invokeFunction('convertToInteractive',\n",
              "                                                     [key], {});\n",
              "          if (!dataTable) return;\n",
              "\n",
              "          const docLinkHtml = 'Like what you see? Visit the ' +\n",
              "            '<a target=\"_blank\" href=https://colab.research.google.com/notebooks/data_table.ipynb>data table notebook</a>'\n",
              "            + ' to learn more about interactive tables.';\n",
              "          element.innerHTML = '';\n",
              "          dataTable['output_type'] = 'display_data';\n",
              "          await google.colab.output.renderOutput(dataTable, element);\n",
              "          const docLink = document.createElement('div');\n",
              "          docLink.innerHTML = docLinkHtml;\n",
              "          element.appendChild(docLink);\n",
              "        }\n",
              "      </script>\n",
              "    </div>\n",
              "  </div>\n",
              "  "
            ],
            "text/plain": [
              "  ad_id  action\n",
              "0     B       1\n",
              "1     B       1\n",
              "2     A       0\n",
              "3     B       0\n",
              "4     A       1"
            ]
          },
          "metadata": {},
          "execution_count": 19
        }
      ],
      "source": [
        "#посмотрим примерные значения и структуру полученного датафрейма\n",
        "df.head()"
      ]
    },
    {
      "cell_type": "markdown",
      "id": "fdd230ab",
      "metadata": {
        "id": "fdd230ab"
      },
      "source": [
        "Описание набора данных:\n",
        "\n",
        "**A** - контрольная группа, соответствующая товару в старом дизайне упаковки\n",
        "\n",
        "**B** - тестовая группа, соответствующая товару в новом дизайне упаковки\n",
        "\n",
        "**action**:\n",
        "\n",
        "0 - не было покупки\n",
        "\n",
        "1 - была покупка"
      ]
    },
    {
      "cell_type": "code",
      "execution_count": null,
      "id": "34b1f92a",
      "metadata": {
        "colab": {
          "base_uri": "https://localhost:8080/",
          "height": 296
        },
        "id": "34b1f92a",
        "outputId": "1ae26cd5-532c-4edc-c0a5-8438498b0894"
      },
      "outputs": [
        {
          "output_type": "execute_result",
          "data": {
            "text/plain": [
              "<matplotlib.axes._subplots.AxesSubplot at 0x7fd629948710>"
            ]
          },
          "metadata": {},
          "execution_count": 20
        },
        {
          "output_type": "display_data",
          "data": {
            "image/png": "[encoded data removed]",
            "text/plain": [
              "<Figure size 432x288 with 1 Axes>"
            ]
          },
          "metadata": {
            "needs_background": "light"
          }
        }
      ],
      "source": [
        "#построим гистрограмму входных данных - как распределены значения\n",
        "sns.histplot(data=df, x=\"action\", hue=\"ad_id\", multiple=\"dodge\")"
      ]
    },
    {
      "cell_type": "markdown",
      "id": "7a117a17",
      "metadata": {
        "id": "7a117a17"
      },
      "source": [
        "**Промежуточные выводы:**\n",
        "\n",
        "1. Распределение данных дискретное, которое принимает на вход только два значения: 0 и 1 (биномиальное распределение)"
      ]
    },
    {
      "cell_type": "markdown",
      "id": "3e7bca95",
      "metadata": {
        "id": "3e7bca95"
      },
      "source": [
        "### 4. Статистика набора данных"
      ]
    },
    {
      "cell_type": "markdown",
      "id": "40c15ad2",
      "metadata": {
        "id": "40c15ad2"
      },
      "source": [
        "Рассчитаем для каждой из групп (контрольной и тестовой) - сколько покупок товара с новым и старом дизайном упаковки было сделано, величину консервии в продажу, а также стандартное отклонение и ошибку:\n"
      ]
    },
    {
      "cell_type": "code",
      "execution_count": null,
      "id": "56af0af7",
      "metadata": {
        "id": "56af0af7"
      },
      "outputs": [],
      "source": [
        "summary_df = df.pivot_table(values='action', index = 'ad_id', aggfunc=np.sum)\n",
        "summary_df['total_count'] = df.pivot_table(values='action', index='ad_id', aggfunc=lambda x: len(x))\n",
        "summary_df['conversion_rate'] = df.pivot_table(values='action', index='ad_id') \n",
        "summary_df['std_dev'] = df.pivot_table(values='action', index='ad_id', aggfunc = lambda x: np.std(x, ddof=0)) \n",
        "summary_df['std_err'] = df.pivot_table(values='action', index='ad_id', aggfunc = lambda x: stats.sem(x, ddof=0))\n"
      ]
    },
    {
      "cell_type": "code",
      "execution_count": null,
      "id": "3976ccbe",
      "metadata": {
        "colab": {
          "base_uri": "https://localhost:8080/",
          "height": 143
        },
        "id": "3976ccbe",
        "outputId": "4a09082e-bc69-4542-c289-fa42f9c08e69"
      },
      "outputs": [
        {
          "output_type": "execute_result",
          "data": {
            "text/html": [
              "\n",
              "  <div id=\"df-1ccfc5b2-e742-4684-a49c-7710a94fbe06\">\n",
              "    <div class=\"colab-df-container\">\n",
              "      <div>\n",
              "<style scoped>\n",
              "    .dataframe tbody tr th:only-of-type {\n",
              "        vertical-align: middle;\n",
              "    }\n",
              "\n",
              "    .dataframe tbody tr th {\n",
              "        vertical-align: top;\n",
              "    }\n",
              "\n",
              "    .dataframe thead th {\n",
              "        text-align: right;\n",
              "    }\n",
              "</style>\n",
              "<table border=\"1\" class=\"dataframe\">\n",
              "  <thead>\n",
              "    <tr style=\"text-align: right;\">\n",
              "      <th></th>\n",
              "      <th>action</th>\n",
              "      <th>total_count</th>\n",
              "      <th>conversion_rate</th>\n",
              "      <th>std_dev</th>\n",
              "      <th>std_err</th>\n",
              "    </tr>\n",
              "    <tr>\n",
              "      <th>ad_id</th>\n",
              "      <th></th>\n",
              "      <th></th>\n",
              "      <th></th>\n",
              "      <th></th>\n",
              "      <th></th>\n",
              "    </tr>\n",
              "  </thead>\n",
              "  <tbody>\n",
              "    <tr>\n",
              "      <th>A</th>\n",
              "      <td>304</td>\n",
              "      <td>1000</td>\n",
              "      <td>0.304</td>\n",
              "      <td>0.459983</td>\n",
              "      <td>0.014546</td>\n",
              "    </tr>\n",
              "    <tr>\n",
              "      <th>B</th>\n",
              "      <td>372</td>\n",
              "      <td>1000</td>\n",
              "      <td>0.372</td>\n",
              "      <td>0.483338</td>\n",
              "      <td>0.015285</td>\n",
              "    </tr>\n",
              "  </tbody>\n",
              "</table>\n",
              "</div>\n",
              "      <button class=\"colab-df-convert\" onclick=\"convertToInteractive('df-1ccfc5b2-e742-4684-a49c-7710a94fbe06')\"\n",
              "              title=\"Convert this dataframe to an interactive table.\"\n",
              "              style=\"display:none;\">\n",
              "        \n",
              "  <svg xmlns=\"http://www.w3.org/2000/svg\" height=\"24px\"viewBox=\"0 0 24 24\"\n",
              "       width=\"24px\">\n",
              "    <path d=\"M0 0h24v24H0V0z\" fill=\"none\"/>\n",
              "    <path d=\"M18.56 5.44l.94 2.06.94-2.06 2.06-.94-2.06-.94-.94-2.06-.94 2.06-2.06.94zm-11 1L8.5 8.5l.94-2.06 2.06-.94-2.06-.94L8.5 2.5l-.94 2.06-2.06.94zm10 10l.94 2.06.94-2.06 2.06-.94-2.06-.94-.94-2.06-.94 2.06-2.06.94z\"/><path d=\"M17.41 7.96l-1.37-1.37c-.4-.4-.92-.59-1.43-.59-.52 0-1.04.2-1.43.59L10.3 9.45l-7.72 7.72c-.78.78-.78 2.05 0 2.83L4 21.41c.39.39.9.59 1.41.59.51 0 1.02-.2 1.41-.59l7.78-7.78 2.81-2.81c.8-.78.8-2.07 0-2.86zM5.41 20L4 18.59l7.72-7.72 1.47 1.35L5.41 20z\"/>\n",
              "  </svg>\n",
              "      </button>\n",
              "      \n",
              "  <style>\n",
              "    .colab-df-container {\n",
              "      display:flex;\n",
              "      flex-wrap:wrap;\n",
              "      gap: 12px;\n",
              "    }\n",
              "\n",
              "    .colab-df-convert {\n",
              "      background-color: #E8F0FE;\n",
              "      border: none;\n",
              "      border-radius: 50%;\n",
              "      cursor: pointer;\n",
              "      display: none;\n",
              "      fill: #1967D2;\n",
              "      height: 32px;\n",
              "      padding: 0 0 0 0;\n",
              "      width: 32px;\n",
              "    }\n",
              "\n",
              "    .colab-df-convert:hover {\n",
              "      background-color: #E2EBFA;\n",
              "      box-shadow: 0px 1px 2px rgba(60, 64, 67, 0.3), 0px 1px 3px 1px rgba(60, 64, 67, 0.15);\n",
              "      fill: #174EA6;\n",
              "    }\n",
              "\n",
              "    [theme=dark] .colab-df-convert {\n",
              "      background-color: #3B4455;\n",
              "      fill: #D2E3FC;\n",
              "    }\n",
              "\n",
              "    [theme=dark] .colab-df-convert:hover {\n",
              "      background-color: #434B5C;\n",
              "      box-shadow: 0px 1px 3px 1px rgba(0, 0, 0, 0.15);\n",
              "      filter: drop-shadow(0px 1px 2px rgba(0, 0, 0, 0.3));\n",
              "      fill: #FFFFFF;\n",
              "    }\n",
              "  </style>\n",
              "\n",
              "      <script>\n",
              "        const buttonEl =\n",
              "          document.querySelector('#df-1ccfc5b2-e742-4684-a49c-7710a94fbe06 button.colab-df-convert');\n",
              "        buttonEl.style.display =\n",
              "          google.colab.kernel.accessAllowed ? 'block' : 'none';\n",
              "\n",
              "        async function convertToInteractive(key) {\n",
              "          const element = document.querySelector('#df-1ccfc5b2-e742-4684-a49c-7710a94fbe06');\n",
              "          const dataTable =\n",
              "            await google.colab.kernel.invokeFunction('convertToInteractive',\n",
              "                                                     [key], {});\n",
              "          if (!dataTable) return;\n",
              "\n",
              "          const docLinkHtml = 'Like what you see? Visit the ' +\n",
              "            '<a target=\"_blank\" href=https://colab.research.google.com/notebooks/data_table.ipynb>data table notebook</a>'\n",
              "            + ' to learn more about interactive tables.';\n",
              "          element.innerHTML = '';\n",
              "          dataTable['output_type'] = 'display_data';\n",
              "          await google.colab.output.renderOutput(dataTable, element);\n",
              "          const docLink = document.createElement('div');\n",
              "          docLink.innerHTML = docLinkHtml;\n",
              "          element.appendChild(docLink);\n",
              "        }\n",
              "      </script>\n",
              "    </div>\n",
              "  </div>\n",
              "  "
            ],
            "text/plain": [
              "       action  total_count  conversion_rate   std_dev   std_err\n",
              "ad_id                                                          \n",
              "A         304         1000            0.304  0.459983  0.014546\n",
              "B         372         1000            0.372  0.483338  0.015285"
            ]
          },
          "metadata": {},
          "execution_count": 22
        }
      ],
      "source": [
        "summary_df"
      ]
    },
    {
      "cell_type": "markdown",
      "id": "ac2e125b",
      "metadata": {
        "id": "ac2e125b"
      },
      "source": [
        "**Промежуточные выводы:**\n",
        "\n",
        "Новый дизайн упаковки товара лучше, чем старый (conversion_rate B > conversion_rate A)"
      ]
    },
    {
      "cell_type": "markdown",
      "id": "4174fea7",
      "metadata": {
        "id": "4174fea7"
      },
      "source": [
        "### 4. Визуализация промежуточных выводов"
      ]
    },
    {
      "cell_type": "code",
      "execution_count": null,
      "id": "5ae1185e",
      "metadata": {
        "colab": {
          "base_uri": "https://localhost:8080/",
          "height": 421
        },
        "id": "5ae1185e",
        "outputId": "e52b7e70-4be0-43a8-affc-953944c3a6c4"
      },
      "outputs": [
        {
          "output_type": "execute_result",
          "data": {
            "text/plain": [
              "Text(0, 0.5, 'Коэф-т конверсии')"
            ]
          },
          "metadata": {},
          "execution_count": 23
        },
        {
          "output_type": "display_data",
          "data": {
            "image/png": "[encoded data removed]",
            "text/plain": [
              "<Figure size 576x432 with 1 Axes>"
            ]
          },
          "metadata": {
            "needs_background": "light"
          }
        }
      ],
      "source": [
        "plt.figure(figsize=(8,6))\n",
        "\n",
        "sns.barplot(x=df['ad_id'], y=df['action'])\n",
        "\n",
        "plt.title('Коэф-т конверсии в продажу для каждой группы')\n",
        "plt.xlabel('Группа')\n",
        "plt.ylabel('Коэф-т конверсии')"
      ]
    },
    {
      "cell_type": "markdown",
      "id": "3a3580d3",
      "metadata": {
        "id": "3a3580d3"
      },
      "source": [
        "**Промежуточные выводы:**\n",
        "\n"
      ]
    },
    {
      "cell_type": "markdown",
      "id": "2b1c7a83",
      "metadata": {
        "id": "2b1c7a83"
      },
      "source": [
        "### 5. Проверка гипотезы"
      ]
    },
    {
      "cell_type": "markdown",
      "id": "891b2f4b",
      "metadata": {
        "id": "891b2f4b"
      },
      "source": [
        "Необходимо определить - статистически ли значима данная разница по конверсии? То есть, можем ли мы быть уверены, что разница, которую мы наблюдаем — неслучайная.\n",
        "\n",
        "Т.к. разброс значений мал (качественные данные, биномиальное распределение), и набор выборки мал, то для проверки используем Z-статистику (критерий Фишера)."
      ]
    },
    {
      "cell_type": "code",
      "execution_count": null,
      "id": "0ffb8f56",
      "metadata": {
        "id": "0ffb8f56"
      },
      "outputs": [],
      "source": [
        "from statsmodels.stats.proportion import proportions_ztest, proportion_confint"
      ]
    },
    {
      "cell_type": "code",
      "execution_count": null,
      "id": "aa234cc1",
      "metadata": {
        "id": "aa234cc1"
      },
      "outputs": [],
      "source": [
        "#Выделяем явно группы: контрольная А, тестовая В\n",
        "control_results = df[df['ad_id'] == 'A']['action']\n",
        "test_results = df[df['ad_id'] == 'B']['action']"
      ]
    },
    {
      "cell_type": "markdown",
      "id": "2deaf500",
      "metadata": {
        "id": "2deaf500"
      },
      "source": [
        "Статистический критерий вернет нам значение **p-value**, которое поможет оценить: есть ли статистическая значимость в разнице конверсий, которую показывает наш эксперимент. \n",
        "\n",
        "### Посчитаем p-value"
      ]
    },
    {
      "cell_type": "code",
      "execution_count": null,
      "id": "aeae9cec",
      "metadata": {
        "colab": {
          "base_uri": "https://localhost:8080/"
        },
        "id": "aeae9cec",
        "outputId": "77dfaa51-5b81-476e-e323-e90f8bc02966"
      },
      "outputs": [
        {
          "output_type": "stream",
          "name": "stdout",
          "text": [
            "z statistic: -3.2144492244084213\n",
            "p-value: 0.0013069502732125403\n"
          ]
        }
      ],
      "source": [
        "#Считаем кол-во элементов в каждой группе\n",
        "nobs = [control_results.count(), test_results.count()]\n",
        "\n",
        "#Считаем кол-во покупок в каждой группе\n",
        "successes = [control_results.sum(), test_results.sum()]\n",
        "\n",
        "z_stat, pval = proportions_ztest(successes, nobs)\n",
        "\n",
        "print('z statistic:', z_stat)\n",
        "print('p-value:', pval)"
      ]
    },
    {
      "cell_type": "markdown",
      "id": "4eaa0e14",
      "metadata": {
        "id": "4eaa0e14"
      },
      "source": [
        "Так как ни один статистический критерий не дает 100% уверенности, мы зададим ему порог 5% для ошибки первого рода — то есть согласимся, что 5% наших наблюдений будут ошибочными."
      ]
    },
    {
      "cell_type": "code",
      "execution_count": null,
      "id": "760cc014",
      "metadata": {
        "id": "760cc014"
      },
      "outputs": [],
      "source": [
        "alpha = 0.05"
      ]
    },
    {
      "cell_type": "markdown",
      "id": "f379d41b",
      "metadata": {
        "id": "f379d41b"
      },
      "source": [
        "p-value — это фактическая вероятность попасть в ошибку первого рода на наших данных, если мы отклоним нулевую гипотезу. Сравниваем p-value c желаемым уровнем точности нашего эксперимента. \n",
        "\n",
        "- Если p-value меньше порога ошибки первого рода — результат эксперимента можно считать статзначимым\n",
        "- Если p-value больше — мы будем вынуждены признать разницу в значениях тестовой и контрольной группы случайной"
      ]
    },
    {
      "cell_type": "code",
      "execution_count": null,
      "id": "0a02fae6",
      "metadata": {
        "colab": {
          "base_uri": "https://localhost:8080/"
        },
        "id": "0a02fae6",
        "outputId": "cff49c95-f988-465e-c12f-ffd7e5321ba3"
      },
      "outputs": [
        {
          "output_type": "stream",
          "name": "stdout",
          "text": [
            "True\n"
          ]
        }
      ],
      "source": [
        "print(pval < alpha)"
      ]
    },
    {
      "cell_type": "markdown",
      "id": "82283404",
      "metadata": {
        "id": "82283404"
      },
      "source": [
        "**Промежуточные выводы:**\n",
        "\n",
        "Т.к. p-value < 0.05, то отклоняем H0. Это означает, что новый дизайн упаковки сработал значительно иначе, чем старый. Результат эксперимента - статистически значимый."
      ]
    },
    {
      "cell_type": "markdown",
      "source": [
        "### Доверительные интервалы\n",
        "Для проверки условий успешности внедрения новой упаковки посмотрим на доверительные интервалы."
      ],
      "metadata": {
        "id": "zoSXzSL-w87v"
      },
      "id": "zoSXzSL-w87v"
    },
    {
      "cell_type": "code",
      "execution_count": 31,
      "id": "39ddb622",
      "metadata": {
        "colab": {
          "base_uri": "https://localhost:8080/"
        },
        "id": "39ddb622",
        "outputId": "9e890e5c-890e-44f6-8a31-25decdaaf0f9"
      },
      "outputs": [
        {
          "output_type": "stream",
          "name": "stdout",
          "text": [
            "Доверительный интервал для контрольной группы A: 0.2754905064387712  -  0.3325094935612288\n",
            "Доверительный интервал для тестовой группы B: 0.3420429266473629  -  0.4019570733526371\n"
          ]
        }
      ],
      "source": [
        "(lower_con, lower_test), (upper_con, upper_test) = proportion_confint(successes, nobs=nobs, alpha=alpha)\n",
        "\n",
        "print('Доверительный интервал для контрольной группы A:', lower_con, ' - ', upper_con)\n",
        "print('Доверительный интервал для тестовой группы B:', lower_test, ' - ', upper_test)"
      ]
    },
    {
      "cell_type": "markdown",
      "id": "74bd97ad",
      "metadata": {
        "id": "74bd97ad"
      },
      "source": [
        "Диапaзон доверительного интервала для тестовой группы составляет от 34,2% до 40,2%. Этот интервал не включает в себя базовую конверсию 30,4%. Но включает целевое значение к которому мы стремились - 35%.\n",
        "\n",
        "**Вывод:**\n",
        "В рамках рассматриваемой задачи признаем редизайн успешным."
      ]
    }
  ],
  "metadata": {
    "kernelspec": {
      "display_name": "Python 3",
      "language": "python",
      "name": "python3"
    },
    "language_info": {
      "codemirror_mode": {
        "name": "ipython",
        "version": 3
      },
      "file_extension": ".py",
      "mimetype": "text/x-python",
      "name": "python",
      "nbconvert_exporter": "python",
      "pygments_lexer": "ipython3",
      "version": "3.8.8"
    },
    "colab": {
      "name": "AB_Solutions.ipynb",
      "provenance": [],
      "collapsed_sections": [],
      "include_colab_link": true
    }
  },
  "nbformat": 4,
  "nbformat_minor": 5
}